{
 "cells": [
  {
   "cell_type": "markdown",
   "id": "1a7ae7fa",
   "metadata": {},
   "source": [
    "# Important Libraries"
   ]
  },
  {
   "cell_type": "code",
   "execution_count": 12,
   "id": "da277167",
   "metadata": {},
   "outputs": [],
   "source": [
    "import pandas as pd\n",
    "import numpy as np\n",
    "from sklearn.model_selection import train_test_split\n",
    "\n",
    "from sklearn.model_selection import GridSearchCV\n",
    "from sklearn.model_selection import cross_validate\n",
    "from sklearn.model_selection import cross_val_score\n",
    "from sklearn.model_selection import ShuffleSplit\n",
    "\n",
    "\n",
    "from sklearn.linear_model import LogisticRegression\n",
    "from sklearn.ensemble import RandomForestClassifier\n",
    "from sklearn.datasets import make_classification\n",
    "import torch\n",
    "import torch.nn as nn # neural network\n",
    "import torch.nn.functional as F\n",
    "from xgboost import XGBClassifier\n",
    "from sklearn.ensemble import GradientBoostingClassifier\n",
    "from sklearn.pipeline import Pipeline\n",
    "from sklearn.preprocessing import StandardScaler\n",
    "from sklearn.decomposition import PCA\n",
    "from sklearn.model_selection import train_test_split\n",
    "from sklearn.svm import SVC\n",
    "\n",
    "from sklearn.feature_selection import SelectKBest, chi2,f_classif,RFE\n",
    "from sklearn.metrics import roc_auc_score\n",
    "\n",
    "from sklearn.tree import DecisionTreeClassifier\n",
    "from sklearn.ensemble import AdaBoostClassifier\n",
    "\n",
    "from sklearn.naive_bayes import GaussianNB\n",
    "from sklearn.metrics import classification_report\n",
    "import matplotlib.pyplot as plt\n",
    "from sklearn.metrics import confusion_matrix\n",
    "import seaborn as sns\n"
   ]
  },
  {
   "cell_type": "markdown",
   "id": "10240eb4",
   "metadata": {},
   "source": [
    "# Loading Transformed Dataset"
   ]
  },
  {
   "cell_type": "code",
   "execution_count": 2,
   "id": "d95c5df7",
   "metadata": {},
   "outputs": [
    {
     "data": {
      "text/html": [
       "<div>\n",
       "<style scoped>\n",
       "    .dataframe tbody tr th:only-of-type {\n",
       "        vertical-align: middle;\n",
       "    }\n",
       "\n",
       "    .dataframe tbody tr th {\n",
       "        vertical-align: top;\n",
       "    }\n",
       "\n",
       "    .dataframe thead th {\n",
       "        text-align: right;\n",
       "    }\n",
       "</style>\n",
       "<table border=\"1\" class=\"dataframe\">\n",
       "  <thead>\n",
       "    <tr style=\"text-align: right;\">\n",
       "      <th></th>\n",
       "      <th>age</th>\n",
       "      <th>gender</th>\n",
       "      <th>height</th>\n",
       "      <th>weight</th>\n",
       "      <th>ap_hi</th>\n",
       "      <th>ap_lo</th>\n",
       "      <th>cholesterol</th>\n",
       "      <th>gluc</th>\n",
       "      <th>smoke</th>\n",
       "      <th>alco</th>\n",
       "      <th>active</th>\n",
       "      <th>cardio</th>\n",
       "    </tr>\n",
       "  </thead>\n",
       "  <tbody>\n",
       "    <tr>\n",
       "      <th>0</th>\n",
       "      <td>50.391781</td>\n",
       "      <td>2</td>\n",
       "      <td>168</td>\n",
       "      <td>62.0</td>\n",
       "      <td>110</td>\n",
       "      <td>80</td>\n",
       "      <td>1</td>\n",
       "      <td>1</td>\n",
       "      <td>0</td>\n",
       "      <td>0</td>\n",
       "      <td>1</td>\n",
       "      <td>0</td>\n",
       "    </tr>\n",
       "    <tr>\n",
       "      <th>1</th>\n",
       "      <td>55.419178</td>\n",
       "      <td>1</td>\n",
       "      <td>156</td>\n",
       "      <td>85.0</td>\n",
       "      <td>140</td>\n",
       "      <td>90</td>\n",
       "      <td>3</td>\n",
       "      <td>1</td>\n",
       "      <td>0</td>\n",
       "      <td>0</td>\n",
       "      <td>1</td>\n",
       "      <td>1</td>\n",
       "    </tr>\n",
       "    <tr>\n",
       "      <th>2</th>\n",
       "      <td>51.663014</td>\n",
       "      <td>1</td>\n",
       "      <td>165</td>\n",
       "      <td>64.0</td>\n",
       "      <td>130</td>\n",
       "      <td>70</td>\n",
       "      <td>3</td>\n",
       "      <td>1</td>\n",
       "      <td>0</td>\n",
       "      <td>0</td>\n",
       "      <td>0</td>\n",
       "      <td>1</td>\n",
       "    </tr>\n",
       "    <tr>\n",
       "      <th>3</th>\n",
       "      <td>48.282192</td>\n",
       "      <td>2</td>\n",
       "      <td>169</td>\n",
       "      <td>82.0</td>\n",
       "      <td>150</td>\n",
       "      <td>100</td>\n",
       "      <td>1</td>\n",
       "      <td>1</td>\n",
       "      <td>0</td>\n",
       "      <td>0</td>\n",
       "      <td>1</td>\n",
       "      <td>1</td>\n",
       "    </tr>\n",
       "    <tr>\n",
       "      <th>4</th>\n",
       "      <td>47.873973</td>\n",
       "      <td>1</td>\n",
       "      <td>156</td>\n",
       "      <td>56.0</td>\n",
       "      <td>100</td>\n",
       "      <td>60</td>\n",
       "      <td>1</td>\n",
       "      <td>1</td>\n",
       "      <td>0</td>\n",
       "      <td>0</td>\n",
       "      <td>0</td>\n",
       "      <td>0</td>\n",
       "    </tr>\n",
       "    <tr>\n",
       "      <th>5</th>\n",
       "      <td>60.038356</td>\n",
       "      <td>1</td>\n",
       "      <td>151</td>\n",
       "      <td>67.0</td>\n",
       "      <td>120</td>\n",
       "      <td>80</td>\n",
       "      <td>2</td>\n",
       "      <td>2</td>\n",
       "      <td>0</td>\n",
       "      <td>0</td>\n",
       "      <td>0</td>\n",
       "      <td>0</td>\n",
       "    </tr>\n",
       "    <tr>\n",
       "      <th>6</th>\n",
       "      <td>60.583562</td>\n",
       "      <td>1</td>\n",
       "      <td>157</td>\n",
       "      <td>93.0</td>\n",
       "      <td>130</td>\n",
       "      <td>80</td>\n",
       "      <td>3</td>\n",
       "      <td>1</td>\n",
       "      <td>0</td>\n",
       "      <td>0</td>\n",
       "      <td>1</td>\n",
       "      <td>0</td>\n",
       "    </tr>\n",
       "    <tr>\n",
       "      <th>7</th>\n",
       "      <td>61.873973</td>\n",
       "      <td>2</td>\n",
       "      <td>178</td>\n",
       "      <td>95.0</td>\n",
       "      <td>130</td>\n",
       "      <td>90</td>\n",
       "      <td>3</td>\n",
       "      <td>3</td>\n",
       "      <td>0</td>\n",
       "      <td>0</td>\n",
       "      <td>1</td>\n",
       "      <td>1</td>\n",
       "    </tr>\n",
       "    <tr>\n",
       "      <th>8</th>\n",
       "      <td>48.405479</td>\n",
       "      <td>1</td>\n",
       "      <td>158</td>\n",
       "      <td>71.0</td>\n",
       "      <td>110</td>\n",
       "      <td>70</td>\n",
       "      <td>1</td>\n",
       "      <td>1</td>\n",
       "      <td>0</td>\n",
       "      <td>0</td>\n",
       "      <td>1</td>\n",
       "      <td>0</td>\n",
       "    </tr>\n",
       "    <tr>\n",
       "      <th>9</th>\n",
       "      <td>54.339726</td>\n",
       "      <td>1</td>\n",
       "      <td>164</td>\n",
       "      <td>68.0</td>\n",
       "      <td>110</td>\n",
       "      <td>60</td>\n",
       "      <td>1</td>\n",
       "      <td>1</td>\n",
       "      <td>0</td>\n",
       "      <td>0</td>\n",
       "      <td>0</td>\n",
       "      <td>0</td>\n",
       "    </tr>\n",
       "  </tbody>\n",
       "</table>\n",
       "</div>"
      ],
      "text/plain": [
       "         age  gender  height  weight  ap_hi  ap_lo  cholesterol  gluc  smoke  \\\n",
       "0  50.391781       2     168    62.0    110     80            1     1      0   \n",
       "1  55.419178       1     156    85.0    140     90            3     1      0   \n",
       "2  51.663014       1     165    64.0    130     70            3     1      0   \n",
       "3  48.282192       2     169    82.0    150    100            1     1      0   \n",
       "4  47.873973       1     156    56.0    100     60            1     1      0   \n",
       "5  60.038356       1     151    67.0    120     80            2     2      0   \n",
       "6  60.583562       1     157    93.0    130     80            3     1      0   \n",
       "7  61.873973       2     178    95.0    130     90            3     3      0   \n",
       "8  48.405479       1     158    71.0    110     70            1     1      0   \n",
       "9  54.339726       1     164    68.0    110     60            1     1      0   \n",
       "\n",
       "   alco  active  cardio  \n",
       "0     0       1       0  \n",
       "1     0       1       1  \n",
       "2     0       0       1  \n",
       "3     0       1       1  \n",
       "4     0       0       0  \n",
       "5     0       0       0  \n",
       "6     0       1       0  \n",
       "7     0       1       1  \n",
       "8     0       1       0  \n",
       "9     0       0       0  "
      ]
     },
     "execution_count": 2,
     "metadata": {},
     "output_type": "execute_result"
    }
   ],
   "source": [
    "df=pd.read_csv(\"transformed_CVD_data.csv\")\n",
    "df.head(10)"
   ]
  },
  {
   "cell_type": "markdown",
   "id": "7deb777b",
   "metadata": {},
   "source": [
    "# Spliting Data into Train & Test Set"
   ]
  },
  {
   "cell_type": "code",
   "execution_count": 3,
   "id": "b9aeadc4",
   "metadata": {},
   "outputs": [],
   "source": [
    "y=df['cardio'] \n",
    "x=df.drop(['cardio'],axis=1)"
   ]
  },
  {
   "cell_type": "code",
   "execution_count": 6,
   "id": "b9f3f935",
   "metadata": {},
   "outputs": [],
   "source": [
    "# xtr : X Input Training Data\n",
    "# xts : X Input Testing Data\n",
    "# ytr : Y Traget Variable Input\n",
    "# yts : Y Target Variable Testing\n",
    "xtr,xts,ytr,yts=train_test_split(x,y,test_size=0.25,random_state=23,stratify=y)"
   ]
  },
  {
   "cell_type": "markdown",
   "id": "0de595b7",
   "metadata": {},
   "source": [
    "# Creating Pipeline"
   ]
  },
  {
   "cell_type": "code",
   "execution_count": 9,
   "id": "77646479",
   "metadata": {},
   "outputs": [],
   "source": [
    "LogisticRegressionPipeline=Pipeline([('scaler', StandardScaler()),\n",
    "                                     ('logistic_classifier', LogisticRegression())])"
   ]
  },
  {
   "cell_type": "code",
   "execution_count": 19,
   "id": "c5258012",
   "metadata": {},
   "outputs": [
    {
     "name": "stdout",
     "output_type": "stream",
     "text": [
      "{'rf__class_weight': 'balanced', 'rf__max_depth': 50, 'rf__min_samples_leaf': 5, 'rf__min_samples_split': 2, 'rf__n_estimators': 140}\n"
     ]
    }
   ],
   "source": [
    "RandomForestClassifierPipeline=Pipeline([('scaler', StandardScaler()),\n",
    "                                     ('rf', RandomForestClassifier(n_estimators=100,max_depth=5,min_samples_leaf=5,min_samples_split=3))])\n",
    "\n",
    "params= {\n",
    "'rf__n_estimators': [120, 140],\n",
    "'rf__max_depth': [30, 50],\n",
    "'rf__min_samples_split': [2, 3],\n",
    "'rf__min_samples_leaf': [3, 5],\n",
    "'rf__class_weight': [{0: 1, 1: 1}, {0: 1, 1:5},{0:1,1:3}, 'balanced']}\n",
    "\n",
    "rf_cv=GridSearchCV(RandomForestClassifierPipeline,param_grid=params ,scoring = 'roc_auc', cv = 3)\n",
    "rf_cv.fit(xtr, ytr)\n",
    "\n",
    "# Get the best hyperparameters\n",
    "best_params = rf_cv.best_params_\n",
    "\n",
    "# Print the best hyperparameters\n",
    "print(best_params)"
   ]
  },
  {
   "cell_type": "code",
   "execution_count": 21,
   "id": "96ce668d",
   "metadata": {},
   "outputs": [],
   "source": [
    "RandomForestClassifier_Pipeline=Pipeline([('scaler', StandardScaler()),\n",
    "                                     ('rf', RandomForestClassifier(class_weight= 'balanced', max_depth=50, min_samples_leaf= 5, min_samples_split=2, n_estimators=140))])\n"
   ]
  },
  {
   "cell_type": "code",
   "execution_count": 14,
   "id": "88cf3030",
   "metadata": {},
   "outputs": [],
   "source": [
    "SVMPipeline=Pipeline([('scaler', StandardScaler()),\n",
    "                      ('svm', SVC(gamma=\"scale\",C=5))])"
   ]
  },
  {
   "cell_type": "code",
   "execution_count": 15,
   "id": "75aa3bb0",
   "metadata": {},
   "outputs": [],
   "source": [
    "XGBClassifierPipeline=Pipeline([('scaler', StandardScaler()),\n",
    "                      ('model', XGBClassifier( gamma= 4.198875359789924, max_depth= 17, min_child_weight= 1, reg_alpha= 57))])"
   ]
  },
  {
   "cell_type": "code",
   "execution_count": 16,
   "id": "9c43e692",
   "metadata": {},
   "outputs": [],
   "source": [
    "GradientBoostingClassifierPipeline=Pipeline([('scaler', StandardScaler()),\n",
    "                                             ('gbc', GradientBoostingClassifier(learning_rate=0.1, min_samples_split=500,min_samples_leaf=50,max_depth=8,max_features='sqrt',subsample=0.8,random_state=10))])"
   ]
  },
  {
   "cell_type": "code",
   "execution_count": 22,
   "id": "57688791",
   "metadata": {},
   "outputs": [],
   "source": [
    "mypipeline=[LogisticRegressionPipeline, RandomForestClassifier_Pipeline, SVMPipeline, XGBClassifierPipeline, GradientBoostingClassifierPipeline]"
   ]
  },
  {
   "cell_type": "code",
   "execution_count": 23,
   "id": "8a085e3f",
   "metadata": {},
   "outputs": [
    {
     "name": "stdout",
     "output_type": "stream",
     "text": [
      "LogisticRegression() Test Acurracy: 0.7279973649538867\n",
      "RandomForestClassifier(max_depth=5, min_samples_leaf=5, min_samples_split=3) Test Acurracy: 0.7304347826086957\n",
      "SVC(C=5) Test Acurracy: 0.7333333333333333\n",
      "XGBClassifier(base_score=0.5, booster='gbtree', callbacks=None,\n",
      "              colsample_bylevel=1, colsample_bynode=1, colsample_bytree=1,\n",
      "              early_stopping_rounds=None, enable_categorical=False,\n",
      "              eval_metric=None, gamma=4.198875359789924, gpu_id=-1,\n",
      "              grow_policy='depthwise', importance_type=None,\n",
      "              interaction_constraints='', learning_rate=0.300000012,\n",
      "              max_bin=256, max_cat_to_onehot=4, max_delta_step=0, max_depth=17,\n",
      "              max_leaves=0, min_child_weight=1, missing=nan,\n",
      "              monotone_constraints='()', n_estimators=100, n_jobs=0,\n",
      "              num_parallel_tree=1, predictor='auto', random_state=0,\n",
      "              reg_alpha=57, reg_lambda=1, ...) Test Acurracy: 0.733399209486166\n",
      "GradientBoostingClassifier(max_depth=8, max_features='sqrt',\n",
      "                           min_samples_leaf=50, min_samples_split=500,\n",
      "                           random_state=10, subsample=0.8) Test Acurracy: 0.7355731225296442\n"
     ]
    }
   ],
   "source": [
    "mypipeline=[LogisticRegressionPipeline, RandomForestClassifierPipeline, SVMPipeline, XGBClassifierPipeline, GradientBoostingClassifierPipeline]\n",
    "for mypipe in mypipeline:\n",
    "    mypipe.fit(xtr,ytr)\n",
    "    cv=ShuffleSplit(n_splits=5,test_size=0.3,random_state=0)\n",
    "    scores = cross_val_score(mypipe, xtr, ytr, cv=cv)\n",
    "    print(\"{} Test Acurracy: {}\".format(mypipe[1], max(scores)))"
   ]
  },
  {
   "cell_type": "code",
   "execution_count": null,
   "id": "b67d1260",
   "metadata": {},
   "outputs": [],
   "source": []
  }
 ],
 "metadata": {
  "kernelspec": {
   "display_name": "Python 3 (ipykernel)",
   "language": "python",
   "name": "python3"
  },
  "language_info": {
   "codemirror_mode": {
    "name": "ipython",
    "version": 3
   },
   "file_extension": ".py",
   "mimetype": "text/x-python",
   "name": "python",
   "nbconvert_exporter": "python",
   "pygments_lexer": "ipython3",
   "version": "3.9.12"
  }
 },
 "nbformat": 4,
 "nbformat_minor": 5
}
